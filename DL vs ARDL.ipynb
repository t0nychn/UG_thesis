{
 "cells": [
  {
   "cell_type": "markdown",
   "id": "115a0d0a",
   "metadata": {},
   "source": [
    "# DL vs ARDL"
   ]
  },
  {
   "cell_type": "markdown",
   "id": "da0b7d19",
   "metadata": {},
   "source": [
    "Aim of this notebook is to test the new DL and ARDL models coded into utils, and choose a model for the study."
   ]
  },
  {
   "cell_type": "code",
   "execution_count": 1,
   "id": "e0c8c123",
   "metadata": {},
   "outputs": [],
   "source": [
    "from utils.models import *"
   ]
  },
  {
   "cell_type": "code",
   "execution_count": 2,
   "id": "34434d2a",
   "metadata": {},
   "outputs": [
    {
     "name": "stdout",
     "output_type": "stream",
     "text": [
      "--------- Dependencies ---------\n",
      "python: 3.8.10 | packaged by conda-forge | (default, May 11 2021, 06:25:23) [MSC v.1916 64 bit (AMD64)]\n",
      "numpy: 1.21.0\n",
      "pandas: 1.2.4\n",
      "matplotlib: 3.4.2\n",
      "statsmodels: 0.13.0\n"
     ]
    }
   ],
   "source": [
    "env()"
   ]
  },
  {
   "cell_type": "markdown",
   "id": "20616ca3",
   "metadata": {},
   "source": [
    "## 1. Context"
   ]
  },
  {
   "cell_type": "code",
   "execution_count": 3,
   "id": "9e6e948e",
   "metadata": {},
   "outputs": [],
   "source": [
    "wti = load('data/WTI.csv').pct_change().dropna()\n",
    "c1 = clean_series('contract_1', wti)"
   ]
  },
  {
   "cell_type": "code",
   "execution_count": 4,
   "id": "8c01aecf",
   "metadata": {},
   "outputs": [],
   "source": [
    "from statsmodels.graphics.tsaplots import plot_pacf"
   ]
  },
  {
   "cell_type": "code",
   "execution_count": 5,
   "id": "e56680e0",
   "metadata": {},
   "outputs": [
    {
     "name": "stderr",
     "output_type": "stream",
     "text": [
      "C:\\Users\\ztche\\anaconda3\\lib\\site-packages\\statsmodels\\graphics\\tsaplots.py:348: FutureWarning: The default method 'yw' can produce PACF values outside of the [-1,1] interval. After 0.13, the default will change tounadjusted Yule-Walker ('ywm'). You can use this method now by setting method='ywm'.\n",
      "  warnings.warn(\n"
     ]
    },
    {
     "data": {
      "image/png": "[encoded data removed]",
      "text/plain": [
       "<Figure size 432x288 with 1 Axes>"
      ]
     },
     "metadata": {
      "needs_background": "light"
     },
     "output_type": "display_data"
    }
   ],
   "source": [
    "t = plot_pacf(c1.contract_1, lags=18, alpha=.05)"
   ]
  },
  {
   "cell_type": "markdown",
   "id": "c133d3cb",
   "metadata": {},
   "source": [
    "Clearly WTI returns is serially correlated at the AR(1) level. This raises the question of whether to use an autoregressive impulse response function - ARDL - or the simpler DL function."
   ]
  },
  {
   "cell_type": "markdown",
   "id": "461970ad",
   "metadata": {},
   "source": [
    "## 2. DL"
   ]
  },
  {
   "cell_type": "markdown",
   "id": "e89797b6",
   "metadata": {},
   "source": [
    "For the following let $WTI$ be the nominal price of WTI crude, $S$ be the shock variable and $I$ the value of the the index used. The DL specification is given by:\n",
    "\n",
    "$\\%\\Delta{WTI}_t = \\alpha + \\sum_{p=0}^{12} \\beta_p S_{t-p} + \\epsilon_t$\n",
    "\n",
    "where\n",
    "\n",
    "$S_t = \\%\\Delta{I_t} - \\%\\Delta{(\\frac{1}{12}\\sum_{j=0}^{11} I_{t-j})}$\n",
    "\n",
    "The average magnitude of $\\%\\Delta{WTI}$ at month $p$ after the shock is thus given by $\\beta_p$. We will use VIX as our shock variable for this comparison.\n",
    "\n",
    "\\* Adapted from Kilian, L. (2008). A Comparison of the Effects of Exogenous Oil Supply Shocks on Output and Inflation in the G7 Countries. *Journal of the European Economic Association*, 6(1), pp 78-121."
   ]
  },
  {
   "cell_type": "code",
   "execution_count": 6,
   "id": "8187c97d",
   "metadata": {},
   "outputs": [],
   "source": [
    "vix = load('data/VIX.csv')\n",
    "vix_shock = calc_shock('VIX', vix)"
   ]
  },
  {
   "cell_type": "code",
   "execution_count": 7,
   "id": "8260086c",
   "metadata": {},
   "outputs": [
    {
     "data": {
      "text/html": [
       "<table class=\"simpletable\">\n",
       "<caption>OLS Regression Results</caption>\n",
       "<tr>\n",
       "  <th>Dep. Variable:</th>       <td>contract_1</td>    <th>  R-squared:         </th> <td>   0.046</td>\n",
       "</tr>\n",
       "<tr>\n",
       "  <th>Model:</th>                   <td>OLS</td>       <th>  Adj. R-squared:    </th> <td>   0.010</td>\n",
       "</tr>\n",
       "<tr>\n",
       "  <th>Method:</th>             <td>Least Squares</td>  <th>  F-statistic:       </th> <td>   1.219</td>\n",
       "</tr>\n",
       "<tr>\n",
       "  <th>Date:</th>             <td>Sun, 06 Feb 2022</td> <th>  Prob (F-statistic):</th>  <td> 0.264</td> \n",
       "</tr>\n",
       "<tr>\n",
       "  <th>Time:</th>                 <td>14:08:51</td>     <th>  Log-Likelihood:    </th> <td> -500.25</td>\n",
       "</tr>\n",
       "<tr>\n",
       "  <th>No. Observations:</th>      <td>   358</td>      <th>  AIC:               </th> <td>   1029.</td>\n",
       "</tr>\n",
       "<tr>\n",
       "  <th>Df Residuals:</th>          <td>   344</td>      <th>  BIC:               </th> <td>   1083.</td>\n",
       "</tr>\n",
       "<tr>\n",
       "  <th>Df Model:</th>              <td>    13</td>      <th>                     </th>     <td> </td>   \n",
       "</tr>\n",
       "<tr>\n",
       "  <th>Covariance Type:</th>         <td>HAC</td>       <th>                     </th>     <td> </td>   \n",
       "</tr>\n",
       "</table>\n",
       "<table class=\"simpletable\">\n",
       "<tr>\n",
       "      <td></td>         <th>coef</th>     <th>std err</th>      <th>t</th>      <th>P>|t|</th>  <th>[0.025</th>    <th>0.975]</th>  \n",
       "</tr>\n",
       "<tr>\n",
       "  <th>const</th>     <td>    0.0123</td> <td>    0.056</td> <td>    0.219</td> <td> 0.827</td> <td>   -0.098</td> <td>    0.122</td>\n",
       "</tr>\n",
       "<tr>\n",
       "  <th>VIX-lag0</th>  <td>   -0.0883</td> <td>    0.063</td> <td>   -1.404</td> <td> 0.161</td> <td>   -0.212</td> <td>    0.035</td>\n",
       "</tr>\n",
       "<tr>\n",
       "  <th>VIX-lag1</th>  <td>   -0.2000</td> <td>    0.068</td> <td>   -2.924</td> <td> 0.004</td> <td>   -0.335</td> <td>   -0.065</td>\n",
       "</tr>\n",
       "<tr>\n",
       "  <th>VIX-lag2</th>  <td>   -0.0556</td> <td>    0.060</td> <td>   -0.934</td> <td> 0.351</td> <td>   -0.173</td> <td>    0.062</td>\n",
       "</tr>\n",
       "<tr>\n",
       "  <th>VIX-lag3</th>  <td>   -0.0831</td> <td>    0.057</td> <td>   -1.447</td> <td> 0.149</td> <td>   -0.196</td> <td>    0.030</td>\n",
       "</tr>\n",
       "<tr>\n",
       "  <th>VIX-lag4</th>  <td>   -0.0412</td> <td>    0.059</td> <td>   -0.695</td> <td> 0.488</td> <td>   -0.158</td> <td>    0.076</td>\n",
       "</tr>\n",
       "<tr>\n",
       "  <th>VIX-lag5</th>  <td>    0.0528</td> <td>    0.065</td> <td>    0.815</td> <td> 0.415</td> <td>   -0.075</td> <td>    0.180</td>\n",
       "</tr>\n",
       "<tr>\n",
       "  <th>VIX-lag6</th>  <td>    0.0417</td> <td>    0.061</td> <td>    0.687</td> <td> 0.493</td> <td>   -0.078</td> <td>    0.161</td>\n",
       "</tr>\n",
       "<tr>\n",
       "  <th>VIX-lag7</th>  <td>    0.0021</td> <td>    0.059</td> <td>    0.035</td> <td> 0.972</td> <td>   -0.115</td> <td>    0.119</td>\n",
       "</tr>\n",
       "<tr>\n",
       "  <th>VIX-lag8</th>  <td>   -0.0439</td> <td>    0.058</td> <td>   -0.758</td> <td> 0.449</td> <td>   -0.158</td> <td>    0.070</td>\n",
       "</tr>\n",
       "<tr>\n",
       "  <th>VIX-lag9</th>  <td>   -0.0524</td> <td>    0.057</td> <td>   -0.927</td> <td> 0.354</td> <td>   -0.164</td> <td>    0.059</td>\n",
       "</tr>\n",
       "<tr>\n",
       "  <th>VIX-lag10</th> <td>   -0.0182</td> <td>    0.058</td> <td>   -0.316</td> <td> 0.752</td> <td>   -0.132</td> <td>    0.095</td>\n",
       "</tr>\n",
       "<tr>\n",
       "  <th>VIX-lag11</th> <td>   -0.0569</td> <td>    0.061</td> <td>   -0.936</td> <td> 0.350</td> <td>   -0.177</td> <td>    0.063</td>\n",
       "</tr>\n",
       "<tr>\n",
       "  <th>VIX-lag12</th> <td>   -0.0092</td> <td>    0.063</td> <td>   -0.145</td> <td> 0.885</td> <td>   -0.133</td> <td>    0.115</td>\n",
       "</tr>\n",
       "</table>\n",
       "<table class=\"simpletable\">\n",
       "<tr>\n",
       "  <th>Omnibus:</th>       <td> 6.256</td> <th>  Durbin-Watson:     </th> <td>   1.662</td>\n",
       "</tr>\n",
       "<tr>\n",
       "  <th>Prob(Omnibus):</th> <td> 0.044</td> <th>  Jarque-Bera (JB):  </th> <td>   4.126</td>\n",
       "</tr>\n",
       "<tr>\n",
       "  <th>Skew:</th>          <td>-0.091</td> <th>  Prob(JB):          </th> <td>   0.127</td>\n",
       "</tr>\n",
       "<tr>\n",
       "  <th>Kurtosis:</th>      <td> 2.507</td> <th>  Cond. No.          </th> <td>    2.56</td>\n",
       "</tr>\n",
       "</table><br/><br/>Notes:<br/>[1] Standard Errors are heteroscedasticity and autocorrelation robust (HAC) using 1 lags and without small sample correction"
      ],
      "text/plain": [
       "<class 'statsmodels.iolib.summary.Summary'>\n",
       "\"\"\"\n",
       "                            OLS Regression Results                            \n",
       "==============================================================================\n",
       "Dep. Variable:             contract_1   R-squared:                       0.046\n",
       "Model:                            OLS   Adj. R-squared:                  0.010\n",
       "Method:                 Least Squares   F-statistic:                     1.219\n",
       "Date:                Sun, 06 Feb 2022   Prob (F-statistic):              0.264\n",
       "Time:                        14:08:51   Log-Likelihood:                -500.25\n",
       "No. Observations:                 358   AIC:                             1029.\n",
       "Df Residuals:                     344   BIC:                             1083.\n",
       "Df Model:                          13                                         \n",
       "Covariance Type:                  HAC                                         \n",
       "==============================================================================\n",
       "                 coef    std err          t      P>|t|      [0.025      0.975]\n",
       "------------------------------------------------------------------------------\n",
       "const          0.0123      0.056      0.219      0.827      -0.098       0.122\n",
       "VIX-lag0      -0.0883      0.063     -1.404      0.161      -0.212       0.035\n",
       "VIX-lag1      -0.2000      0.068     -2.924      0.004      -0.335      -0.065\n",
       "VIX-lag2      -0.0556      0.060     -0.934      0.351      -0.173       0.062\n",
       "VIX-lag3      -0.0831      0.057     -1.447      0.149      -0.196       0.030\n",
       "VIX-lag4      -0.0412      0.059     -0.695      0.488      -0.158       0.076\n",
       "VIX-lag5       0.0528      0.065      0.815      0.415      -0.075       0.180\n",
       "VIX-lag6       0.0417      0.061      0.687      0.493      -0.078       0.161\n",
       "VIX-lag7       0.0021      0.059      0.035      0.972      -0.115       0.119\n",
       "VIX-lag8      -0.0439      0.058     -0.758      0.449      -0.158       0.070\n",
       "VIX-lag9      -0.0524      0.057     -0.927      0.354      -0.164       0.059\n",
       "VIX-lag10     -0.0182      0.058     -0.316      0.752      -0.132       0.095\n",
       "VIX-lag11     -0.0569      0.061     -0.936      0.350      -0.177       0.063\n",
       "VIX-lag12     -0.0092      0.063     -0.145      0.885      -0.133       0.115\n",
       "==============================================================================\n",
       "Omnibus:                        6.256   Durbin-Watson:                   1.662\n",
       "Prob(Omnibus):                  0.044   Jarque-Bera (JB):                4.126\n",
       "Skew:                          -0.091   Prob(JB):                        0.127\n",
       "Kurtosis:                       2.507   Cond. No.                         2.56\n",
       "==============================================================================\n",
       "\n",
       "Notes:\n",
       "[1] Standard Errors are heteroscedasticity and autocorrelation robust (HAC) using 1 lags and without small sample correction\n",
       "\"\"\""
      ]
     },
     "execution_count": 7,
     "metadata": {},
     "output_type": "execute_result"
    }
   ],
   "source": [
    "dl_model = DL('contract_1', 'VIX', c1.join(vix_shock))\n",
    "dl_model.summary()"
   ]
  },
  {
   "cell_type": "code",
   "execution_count": 8,
   "id": "2108df07",
   "metadata": {},
   "outputs": [
    {
     "data": {
      "image/png": "[encoded data removed]",
      "text/plain": [
       "<Figure size 460.8x345.6 with 1 Axes>"
      ]
     },
     "metadata": {
      "needs_background": "light"
     },
     "output_type": "display_data"
    }
   ],
   "source": [
    "dl_model.plot()"
   ]
  },
  {
   "cell_type": "code",
   "execution_count": 9,
   "id": "3571af28",
   "metadata": {},
   "outputs": [
    {
     "name": "stderr",
     "output_type": "stream",
     "text": [
      "C:\\Users\\ztche\\anaconda3\\lib\\site-packages\\statsmodels\\graphics\\tsaplots.py:348: FutureWarning: The default method 'yw' can produce PACF values outside of the [-1,1] interval. After 0.13, the default will change tounadjusted Yule-Walker ('ywm'). You can use this method now by setting method='ywm'.\n",
      "  warnings.warn(\n"
     ]
    },
    {
     "data": {
      "image/png": "[encoded data removed]",
      "text/plain": [
       "<Figure size 432x288 with 1 Axes>"
      ]
     },
     "metadata": {
      "needs_background": "light"
     },
     "output_type": "display_data"
    }
   ],
   "source": [
    "t = plot_pacf(dl_model.model.resid, lags=12)"
   ]
  },
  {
   "cell_type": "markdown",
   "id": "cdc93fb2",
   "metadata": {},
   "source": [
    "As anticipated, residuals are serially correlated."
   ]
  },
  {
   "cell_type": "markdown",
   "id": "101e6fb3",
   "metadata": {},
   "source": [
    "## 3. ARDL"
   ]
  },
  {
   "cell_type": "markdown",
   "id": "f7ddbda9",
   "metadata": {},
   "source": [
    "The ARDL specification is given by:\n",
    "\n",
    "$\\%\\Delta{WTI}_t = \\alpha + \\sum_{i=1}^{a} \\gamma_{i} \\%\\Delta{WTI}_{t-i} + \\sum_{j=0}^{b} \\phi_{j} S_{t-j} + \\epsilon_t$\n",
    "\n",
    "where\n",
    "\n",
    "$a + b = 13$\n",
    "\n",
    "Shock variable is calculated the same as with the DL specification. To get the response function, we must now simulate the response from $\\gamma$ and $\\phi$\n",
    "\n",
    "\\* Adapted from Kilian, L. (2008). A Comparison of the Effects of Exogenous Oil Supply Shocks on Output and Inflation in the G7 Countries. *Journal of the European Economic Association*, 6(1), pp 78-121."
   ]
  },
  {
   "cell_type": "code",
   "execution_count": 10,
   "id": "58d7c6f2",
   "metadata": {},
   "outputs": [
    {
     "data": {
      "text/html": [
       "<table class=\"simpletable\">\n",
       "<caption>OLS Regression Results</caption>\n",
       "<tr>\n",
       "  <th>Dep. Variable:</th>       <td>contract_1</td>    <th>  R-squared:         </th> <td>   0.074</td>\n",
       "</tr>\n",
       "<tr>\n",
       "  <th>Model:</th>                   <td>OLS</td>       <th>  Adj. R-squared:    </th> <td>   0.039</td>\n",
       "</tr>\n",
       "<tr>\n",
       "  <th>Method:</th>             <td>Least Squares</td>  <th>  F-statistic:       </th> <td>   1.974</td>\n",
       "</tr>\n",
       "<tr>\n",
       "  <th>Date:</th>             <td>Sun, 06 Feb 2022</td> <th>  Prob (F-statistic):</th>  <td>0.0221</td> \n",
       "</tr>\n",
       "<tr>\n",
       "  <th>Time:</th>                 <td>14:08:52</td>     <th>  Log-Likelihood:    </th> <td> -496.43</td>\n",
       "</tr>\n",
       "<tr>\n",
       "  <th>No. Observations:</th>      <td>   359</td>      <th>  AIC:               </th> <td>   1021.</td>\n",
       "</tr>\n",
       "<tr>\n",
       "  <th>Df Residuals:</th>          <td>   345</td>      <th>  BIC:               </th> <td>   1075.</td>\n",
       "</tr>\n",
       "<tr>\n",
       "  <th>Df Model:</th>              <td>    13</td>      <th>                     </th>     <td> </td>   \n",
       "</tr>\n",
       "<tr>\n",
       "  <th>Covariance Type:</th>         <td>HC1</td>       <th>                     </th>     <td> </td>   \n",
       "</tr>\n",
       "</table>\n",
       "<table class=\"simpletable\">\n",
       "<tr>\n",
       "         <td></td>            <th>coef</th>     <th>std err</th>      <th>t</th>      <th>P>|t|</th>  <th>[0.025</th>    <th>0.975]</th>  \n",
       "</tr>\n",
       "<tr>\n",
       "  <th>const</th>           <td>    0.0081</td> <td>    0.052</td> <td>    0.156</td> <td> 0.876</td> <td>   -0.094</td> <td>    0.110</td>\n",
       "</tr>\n",
       "<tr>\n",
       "  <th>contract_1-lag1</th> <td>    0.1711</td> <td>    0.052</td> <td>    3.285</td> <td> 0.001</td> <td>    0.069</td> <td>    0.274</td>\n",
       "</tr>\n",
       "<tr>\n",
       "  <th>VIX-lag0</th>        <td>   -0.0906</td> <td>    0.064</td> <td>   -1.410</td> <td> 0.159</td> <td>   -0.217</td> <td>    0.036</td>\n",
       "</tr>\n",
       "<tr>\n",
       "  <th>VIX-lag1</th>        <td>   -0.1879</td> <td>    0.066</td> <td>   -2.839</td> <td> 0.005</td> <td>   -0.318</td> <td>   -0.058</td>\n",
       "</tr>\n",
       "<tr>\n",
       "  <th>VIX-lag2</th>        <td>   -0.0286</td> <td>    0.062</td> <td>   -0.462</td> <td> 0.644</td> <td>   -0.150</td> <td>    0.093</td>\n",
       "</tr>\n",
       "<tr>\n",
       "  <th>VIX-lag3</th>        <td>   -0.0746</td> <td>    0.060</td> <td>   -1.237</td> <td> 0.217</td> <td>   -0.193</td> <td>    0.044</td>\n",
       "</tr>\n",
       "<tr>\n",
       "  <th>VIX-lag4</th>        <td>   -0.0296</td> <td>    0.061</td> <td>   -0.487</td> <td> 0.627</td> <td>   -0.149</td> <td>    0.090</td>\n",
       "</tr>\n",
       "<tr>\n",
       "  <th>VIX-lag5</th>        <td>    0.0599</td> <td>    0.068</td> <td>    0.887</td> <td> 0.376</td> <td>   -0.073</td> <td>    0.193</td>\n",
       "</tr>\n",
       "<tr>\n",
       "  <th>VIX-lag6</th>        <td>    0.0353</td> <td>    0.058</td> <td>    0.606</td> <td> 0.545</td> <td>   -0.079</td> <td>    0.150</td>\n",
       "</tr>\n",
       "<tr>\n",
       "  <th>VIX-lag7</th>        <td>   -0.0099</td> <td>    0.062</td> <td>   -0.160</td> <td> 0.873</td> <td>   -0.131</td> <td>    0.112</td>\n",
       "</tr>\n",
       "<tr>\n",
       "  <th>VIX-lag8</th>        <td>   -0.0431</td> <td>    0.058</td> <td>   -0.747</td> <td> 0.456</td> <td>   -0.157</td> <td>    0.070</td>\n",
       "</tr>\n",
       "<tr>\n",
       "  <th>VIX-lag9</th>        <td>   -0.0469</td> <td>    0.058</td> <td>   -0.809</td> <td> 0.419</td> <td>   -0.161</td> <td>    0.067</td>\n",
       "</tr>\n",
       "<tr>\n",
       "  <th>VIX-lag10</th>       <td>   -0.0068</td> <td>    0.055</td> <td>   -0.123</td> <td> 0.902</td> <td>   -0.116</td> <td>    0.102</td>\n",
       "</tr>\n",
       "<tr>\n",
       "  <th>VIX-lag11</th>       <td>   -0.0539</td> <td>    0.056</td> <td>   -0.961</td> <td> 0.337</td> <td>   -0.164</td> <td>    0.056</td>\n",
       "</tr>\n",
       "</table>\n",
       "<table class=\"simpletable\">\n",
       "<tr>\n",
       "  <th>Omnibus:</th>       <td> 8.582</td> <th>  Durbin-Watson:     </th> <td>   1.986</td>\n",
       "</tr>\n",
       "<tr>\n",
       "  <th>Prob(Omnibus):</th> <td> 0.014</td> <th>  Jarque-Bera (JB):  </th> <td>   4.781</td>\n",
       "</tr>\n",
       "<tr>\n",
       "  <th>Skew:</th>          <td> 0.014</td> <th>  Prob(JB):          </th> <td>  0.0916</td>\n",
       "</tr>\n",
       "<tr>\n",
       "  <th>Kurtosis:</th>      <td> 2.435</td> <th>  Cond. No.          </th> <td>    2.42</td>\n",
       "</tr>\n",
       "</table><br/><br/>Notes:<br/>[1] Standard Errors are heteroscedasticity robust (HC1)"
      ],
      "text/plain": [
       "<class 'statsmodels.iolib.summary.Summary'>\n",
       "\"\"\"\n",
       "                            OLS Regression Results                            \n",
       "==============================================================================\n",
       "Dep. Variable:             contract_1   R-squared:                       0.074\n",
       "Model:                            OLS   Adj. R-squared:                  0.039\n",
       "Method:                 Least Squares   F-statistic:                     1.974\n",
       "Date:                Sun, 06 Feb 2022   Prob (F-statistic):             0.0221\n",
       "Time:                        14:08:52   Log-Likelihood:                -496.43\n",
       "No. Observations:                 359   AIC:                             1021.\n",
       "Df Residuals:                     345   BIC:                             1075.\n",
       "Df Model:                          13                                         \n",
       "Covariance Type:                  HC1                                         \n",
       "===================================================================================\n",
       "                      coef    std err          t      P>|t|      [0.025      0.975]\n",
       "-----------------------------------------------------------------------------------\n",
       "const               0.0081      0.052      0.156      0.876      -0.094       0.110\n",
       "contract_1-lag1     0.1711      0.052      3.285      0.001       0.069       0.274\n",
       "VIX-lag0           -0.0906      0.064     -1.410      0.159      -0.217       0.036\n",
       "VIX-lag1           -0.1879      0.066     -2.839      0.005      -0.318      -0.058\n",
       "VIX-lag2           -0.0286      0.062     -0.462      0.644      -0.150       0.093\n",
       "VIX-lag3           -0.0746      0.060     -1.237      0.217      -0.193       0.044\n",
       "VIX-lag4           -0.0296      0.061     -0.487      0.627      -0.149       0.090\n",
       "VIX-lag5            0.0599      0.068      0.887      0.376      -0.073       0.193\n",
       "VIX-lag6            0.0353      0.058      0.606      0.545      -0.079       0.150\n",
       "VIX-lag7           -0.0099      0.062     -0.160      0.873      -0.131       0.112\n",
       "VIX-lag8           -0.0431      0.058     -0.747      0.456      -0.157       0.070\n",
       "VIX-lag9           -0.0469      0.058     -0.809      0.419      -0.161       0.067\n",
       "VIX-lag10          -0.0068      0.055     -0.123      0.902      -0.116       0.102\n",
       "VIX-lag11          -0.0539      0.056     -0.961      0.337      -0.164       0.056\n",
       "==============================================================================\n",
       "Omnibus:                        8.582   Durbin-Watson:                   1.986\n",
       "Prob(Omnibus):                  0.014   Jarque-Bera (JB):                4.781\n",
       "Skew:                           0.014   Prob(JB):                       0.0916\n",
       "Kurtosis:                       2.435   Cond. No.                         2.42\n",
       "==============================================================================\n",
       "\n",
       "Notes:\n",
       "[1] Standard Errors are heteroscedasticity robust (HC1)\n",
       "\"\"\""
      ]
     },
     "execution_count": 10,
     "metadata": {},
     "output_type": "execute_result"
    }
   ],
   "source": [
    "ardl_model = ARDL('contract_1', 'VIX', c1.join(vix_shock))\n",
    "ardl_model.summary()"
   ]
  },
  {
   "cell_type": "code",
   "execution_count": 11,
   "id": "e0a55bd5",
   "metadata": {},
   "outputs": [
    {
     "data": {
      "image/png": "[encoded data removed]",
      "text/plain": [
       "<Figure size 460.8x345.6 with 1 Axes>"
      ]
     },
     "metadata": {
      "needs_background": "light"
     },
     "output_type": "display_data"
    }
   ],
   "source": [
    "ardl_model.plot()"
   ]
  },
  {
   "cell_type": "code",
   "execution_count": 12,
   "id": "c8247493",
   "metadata": {},
   "outputs": [
    {
     "name": "stderr",
     "output_type": "stream",
     "text": [
      "C:\\Users\\ztche\\anaconda3\\lib\\site-packages\\statsmodels\\graphics\\tsaplots.py:348: FutureWarning: The default method 'yw' can produce PACF values outside of the [-1,1] interval. After 0.13, the default will change tounadjusted Yule-Walker ('ywm'). You can use this method now by setting method='ywm'.\n",
      "  warnings.warn(\n"
     ]
    },
    {
     "data": {
      "image/png": "[encoded data removed]",
      "text/plain": [
       "<Figure size 432x288 with 1 Axes>"
      ]
     },
     "metadata": {
      "needs_background": "light"
     },
     "output_type": "display_data"
    }
   ],
   "source": [
    "t = plot_pacf(ardl_model.model.resid, lags=12)"
   ]
  },
  {
   "cell_type": "markdown",
   "id": "bf47dbff",
   "metadata": {},
   "source": [
    "The ARDL model successsfully accounts for serial correlation of residuals."
   ]
  },
  {
   "cell_type": "markdown",
   "id": "174ba05e",
   "metadata": {},
   "source": [
    "## 4. Comp"
   ]
  },
  {
   "cell_type": "code",
   "execution_count": 13,
   "id": "a00471de",
   "metadata": {},
   "outputs": [
    {
     "data": {
      "text/plain": [
       "<matplotlib.legend.Legend at 0x197731b2d30>"
      ]
     },
     "execution_count": 13,
     "metadata": {},
     "output_type": "execute_result"
    },
    {
     "data": {
      "image/png": "[encoded data removed]",
      "text/plain": [
       "<Figure size 460.8x345.6 with 1 Axes>"
      ]
     },
     "metadata": {
      "needs_background": "light"
     },
     "output_type": "display_data"
    }
   ],
   "source": [
    "plt.figure(figsize=(6.4,4.8))\n",
    "plt.plot(np.cumsum(dl_model.model.params[1:]), label='DL')\n",
    "plt.plot(ardl_model.simulate_response(), label='ARDL')\n",
    "plt.legend()"
   ]
  },
  {
   "cell_type": "code",
   "execution_count": 14,
   "id": "299b3da9",
   "metadata": {},
   "outputs": [
    {
     "data": {
      "text/plain": [
       "<matplotlib.legend.Legend at 0x1977184cd60>"
      ]
     },
     "execution_count": 14,
     "metadata": {},
     "output_type": "execute_result"
    },
    {
     "data": {
      "image/png": "[encoded data removed]",
      "text/plain": [
       "<Figure size 460.8x345.6 with 1 Axes>"
      ]
     },
     "metadata": {
      "needs_background": "light"
     },
     "output_type": "display_data"
    }
   ],
   "source": [
    "ardl_model2 = ARDL('contract_1', 'VIX', c1.join(vix_shock), lags=[4, 8])\n",
    "plt.figure(figsize=(6.4,4.8))\n",
    "plt.plot(np.cumsum(dl_model.model.params[1:]), label='DL')\n",
    "plt.plot(ardl_model.simulate_response(), label='ARDL(1, 11)')\n",
    "plt.plot(ardl_model2.simulate_response(), label='ARDL(4, 8)')\n",
    "plt.legend()"
   ]
  },
  {
   "cell_type": "markdown",
   "id": "4decabdd",
   "metadata": {},
   "source": [
    "It seems like there is only a marginal difference from using ARDL with the correct AR specification. Since our study will be looking to infer time-varying trend rather than predictive accuracy, we will use the DL specification for simplicity."
   ]
  }
 ],
 "metadata": {
  "kernelspec": {
   "display_name": "Python 3",
   "language": "python",
   "name": "python3"
  },
  "language_info": {
   "codemirror_mode": {
    "name": "ipython",
    "version": 3
   },
   "file_extension": ".py",
   "mimetype": "text/x-python",
   "name": "python",
   "nbconvert_exporter": "python",
   "pygments_lexer": "ipython3",
   "version": "3.8.10"
  }
 },
 "nbformat": 4,
 "nbformat_minor": 5
}
