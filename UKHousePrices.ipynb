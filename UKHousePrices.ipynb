{
 "cells": [
  {
   "cell_type": "code",
   "execution_count": 1,
   "id": "5c2f1495",
   "metadata": {},
   "outputs": [],
   "source": [
    "from utils import *"
   ]
  },
  {
   "cell_type": "code",
   "execution_count": 2,
   "id": "b35f2a04",
   "metadata": {},
   "outputs": [
    {
     "data": {
      "text/html": [
       "<div>\n",
       "<style scoped>\n",
       "    .dataframe tbody tr th:only-of-type {\n",
       "        vertical-align: middle;\n",
       "    }\n",
       "\n",
       "    .dataframe tbody tr th {\n",
       "        vertical-align: top;\n",
       "    }\n",
       "\n",
       "    .dataframe thead th {\n",
       "        text-align: right;\n",
       "    }\n",
       "</style>\n",
       "<table border=\"1\" class=\"dataframe\">\n",
       "  <thead>\n",
       "    <tr style=\"text-align: right;\">\n",
       "      <th></th>\n",
       "      <th>region</th>\n",
       "      <th>avg_price</th>\n",
       "    </tr>\n",
       "    <tr>\n",
       "      <th>date</th>\n",
       "      <th></th>\n",
       "      <th></th>\n",
       "    </tr>\n",
       "  </thead>\n",
       "  <tbody>\n",
       "    <tr>\n",
       "      <th>1968-04-01</th>\n",
       "      <td>England</td>\n",
       "      <td>3408.108064</td>\n",
       "    </tr>\n",
       "    <tr>\n",
       "      <th>1968-04-01</th>\n",
       "      <td>Scotland</td>\n",
       "      <td>2844.980688</td>\n",
       "    </tr>\n",
       "    <tr>\n",
       "      <th>1968-04-01</th>\n",
       "      <td>Northern Ireland</td>\n",
       "      <td>3661.485500</td>\n",
       "    </tr>\n",
       "    <tr>\n",
       "      <th>1968-04-01</th>\n",
       "      <td>Wales</td>\n",
       "      <td>2885.414162</td>\n",
       "    </tr>\n",
       "    <tr>\n",
       "      <th>1968-04-01</th>\n",
       "      <td>West Midlands Region</td>\n",
       "      <td>3328.858802</td>\n",
       "    </tr>\n",
       "  </tbody>\n",
       "</table>\n",
       "</div>"
      ],
      "text/plain": [
       "                          region    avg_price\n",
       "date                                         \n",
       "1968-04-01               England  3408.108064\n",
       "1968-04-01              Scotland  2844.980688\n",
       "1968-04-01      Northern Ireland  3661.485500\n",
       "1968-04-01                 Wales  2885.414162\n",
       "1968-04-01  West Midlands Region  3328.858802"
      ]
     },
     "execution_count": 2,
     "metadata": {},
     "output_type": "execute_result"
    }
   ],
   "source": [
    "house = load('data/uk_house_prices.csv')\n",
    "house.head()"
   ]
  },
  {
   "cell_type": "code",
   "execution_count": 3,
   "id": "197936e2",
   "metadata": {},
   "outputs": [
    {
     "data": {
      "text/html": [
       "<div>\n",
       "<style scoped>\n",
       "    .dataframe tbody tr th:only-of-type {\n",
       "        vertical-align: middle;\n",
       "    }\n",
       "\n",
       "    .dataframe tbody tr th {\n",
       "        vertical-align: top;\n",
       "    }\n",
       "\n",
       "    .dataframe thead th {\n",
       "        text-align: right;\n",
       "    }\n",
       "</style>\n",
       "<table border=\"1\" class=\"dataframe\">\n",
       "  <thead>\n",
       "    <tr style=\"text-align: right;\">\n",
       "      <th></th>\n",
       "      <th>avg_price</th>\n",
       "    </tr>\n",
       "    <tr>\n",
       "      <th>date</th>\n",
       "      <th></th>\n",
       "    </tr>\n",
       "  </thead>\n",
       "  <tbody>\n",
       "    <tr>\n",
       "      <th>1995-02-01</th>\n",
       "      <td>-0.003265</td>\n",
       "    </tr>\n",
       "    <tr>\n",
       "      <th>1995-03-01</th>\n",
       "      <td>-0.022583</td>\n",
       "    </tr>\n",
       "    <tr>\n",
       "      <th>1995-04-01</th>\n",
       "      <td>-0.014538</td>\n",
       "    </tr>\n",
       "    <tr>\n",
       "      <th>1995-05-01</th>\n",
       "      <td>-0.013151</td>\n",
       "    </tr>\n",
       "    <tr>\n",
       "      <th>1995-06-01</th>\n",
       "      <td>0.021932</td>\n",
       "    </tr>\n",
       "  </tbody>\n",
       "</table>\n",
       "</div>"
      ],
      "text/plain": [
       "            avg_price\n",
       "date                 \n",
       "1995-02-01  -0.003265\n",
       "1995-03-01  -0.022583\n",
       "1995-04-01  -0.014538\n",
       "1995-05-01  -0.013151\n",
       "1995-06-01   0.021932"
      ]
     },
     "execution_count": 3,
     "metadata": {},
     "output_type": "execute_result"
    }
   ],
   "source": [
    "oxford = house[house['region']=='Oxford'].drop('region', axis=1).pct_change().dropna()\n",
    "oxford.head()"
   ]
  },
  {
   "cell_type": "code",
   "execution_count": 4,
   "id": "80a647aa",
   "metadata": {},
   "outputs": [
    {
     "data": {
      "text/html": [
       "<div>\n",
       "<style scoped>\n",
       "    .dataframe tbody tr th:only-of-type {\n",
       "        vertical-align: middle;\n",
       "    }\n",
       "\n",
       "    .dataframe tbody tr th {\n",
       "        vertical-align: top;\n",
       "    }\n",
       "\n",
       "    .dataframe thead th {\n",
       "        text-align: right;\n",
       "    }\n",
       "</style>\n",
       "<table border=\"1\" class=\"dataframe\">\n",
       "  <thead>\n",
       "    <tr style=\"text-align: right;\">\n",
       "      <th></th>\n",
       "      <th>avg_price</th>\n",
       "    </tr>\n",
       "    <tr>\n",
       "      <th>date</th>\n",
       "      <th></th>\n",
       "    </tr>\n",
       "  </thead>\n",
       "  <tbody>\n",
       "    <tr>\n",
       "      <th>1995-02-01</th>\n",
       "      <td>-0.008569</td>\n",
       "    </tr>\n",
       "    <tr>\n",
       "      <th>1995-03-01</th>\n",
       "      <td>-0.007197</td>\n",
       "    </tr>\n",
       "    <tr>\n",
       "      <th>1995-04-01</th>\n",
       "      <td>0.003221</td>\n",
       "    </tr>\n",
       "    <tr>\n",
       "      <th>1995-05-01</th>\n",
       "      <td>0.006556</td>\n",
       "    </tr>\n",
       "    <tr>\n",
       "      <th>1995-06-01</th>\n",
       "      <td>0.019780</td>\n",
       "    </tr>\n",
       "  </tbody>\n",
       "</table>\n",
       "</div>"
      ],
      "text/plain": [
       "            avg_price\n",
       "date                 \n",
       "1995-02-01  -0.008569\n",
       "1995-03-01  -0.007197\n",
       "1995-04-01   0.003221\n",
       "1995-05-01   0.006556\n",
       "1995-06-01   0.019780"
      ]
     },
     "execution_count": 4,
     "metadata": {},
     "output_type": "execute_result"
    }
   ],
   "source": [
    "birmingham = house[house['region']=='Cardiff'].drop('region',axis=1).pct_change().dropna()\n",
    "birmingham.head()"
   ]
  },
  {
   "cell_type": "code",
   "execution_count": 5,
   "id": "e7307bd1",
   "metadata": {},
   "outputs": [
    {
     "data": {
      "text/html": [
       "<div>\n",
       "<style scoped>\n",
       "    .dataframe tbody tr th:only-of-type {\n",
       "        vertical-align: middle;\n",
       "    }\n",
       "\n",
       "    .dataframe tbody tr th {\n",
       "        vertical-align: top;\n",
       "    }\n",
       "\n",
       "    .dataframe thead th {\n",
       "        text-align: right;\n",
       "    }\n",
       "</style>\n",
       "<table border=\"1\" class=\"dataframe\">\n",
       "  <thead>\n",
       "    <tr style=\"text-align: right;\">\n",
       "      <th></th>\n",
       "      <th>real</th>\n",
       "      <th>CPI</th>\n",
       "      <th>nominal</th>\n",
       "    </tr>\n",
       "    <tr>\n",
       "      <th>date</th>\n",
       "      <th></th>\n",
       "      <th></th>\n",
       "      <th></th>\n",
       "    </tr>\n",
       "  </thead>\n",
       "  <tbody>\n",
       "    <tr>\n",
       "      <th>2004-01-01</th>\n",
       "      <td>1559.383129</td>\n",
       "      <td>78.137855</td>\n",
       "      <td>0.041022</td>\n",
       "    </tr>\n",
       "    <tr>\n",
       "      <th>2004-02-01</th>\n",
       "      <td>1574.909855</td>\n",
       "      <td>78.559766</td>\n",
       "      <td>-0.011675</td>\n",
       "    </tr>\n",
       "    <tr>\n",
       "      <th>2004-03-01</th>\n",
       "      <td>1589.153459</td>\n",
       "      <td>79.066059</td>\n",
       "      <td>0.032680</td>\n",
       "    </tr>\n",
       "    <tr>\n",
       "      <th>2004-04-01</th>\n",
       "      <td>1570.014472</td>\n",
       "      <td>79.319205</td>\n",
       "      <td>0.027221</td>\n",
       "    </tr>\n",
       "    <tr>\n",
       "      <th>2004-05-01</th>\n",
       "      <td>1526.249758</td>\n",
       "      <td>79.783307</td>\n",
       "      <td>-0.051005</td>\n",
       "    </tr>\n",
       "  </tbody>\n",
       "</table>\n",
       "</div>"
      ],
      "text/plain": [
       "                   real        CPI   nominal\n",
       "date                                        \n",
       "2004-01-01  1559.383129  78.137855  0.041022\n",
       "2004-02-01  1574.909855  78.559766 -0.011675\n",
       "2004-03-01  1589.153459  79.066059  0.032680\n",
       "2004-04-01  1570.014472  79.319205  0.027221\n",
       "2004-05-01  1526.249758  79.783307 -0.051005"
      ]
     },
     "execution_count": 5,
     "metadata": {},
     "output_type": "execute_result"
    }
   ],
   "source": [
    "rate = load('data/GBPUSD.csv')\n",
    "msci_world = load('data/MSCI_World.csv')\n",
    "msci_world.nominal = (msci_world.nominal / rate.adj_close).pct_change()\n",
    "msci_world = msci_world.dropna()\n",
    "msci_world.head()"
   ]
  },
  {
   "cell_type": "code",
   "execution_count": 6,
   "id": "6b37e69f",
   "metadata": {},
   "outputs": [
    {
     "name": "stdout",
     "output_type": "stream",
     "text": [
      "Correlation: 0.13919113721571313\n"
     ]
    },
    {
     "data": {
      "image/png": "[encoded data removed]",
      "text/plain": [
       "<Figure size 432x288 with 1 Axes>"
      ]
     },
     "metadata": {
      "needs_background": "light"
     },
     "output_type": "display_data"
    }
   ],
   "source": [
    "df_ox = oxford.join(msci_world).dropna()\n",
    "plt.scatter(df_ox.nominal, df_ox.avg_price)\n",
    "plt.xlabel('Stock index return')\n",
    "plt.ylabel('House price return')\n",
    "plt.axhline(color='black', linestyle='--', alpha=0.8)\n",
    "plt.axvline(color='black', linestyle='--', alpha=0.8)\n",
    "print(f'Correlation: {np.corrcoef(df_ox.nominal, df_ox.avg_price)[0, 1]}')"
   ]
  },
  {
   "cell_type": "code",
   "execution_count": 7,
   "id": "1a69b37f",
   "metadata": {},
   "outputs": [
    {
     "name": "stdout",
     "output_type": "stream",
     "text": [
      "Correlation: 0.01935076124404899\n"
     ]
    },
    {
     "data": {
      "image/png": "[encoded data removed]",
      "text/plain": [
       "<Figure size 432x288 with 1 Axes>"
      ]
     },
     "metadata": {
      "needs_background": "light"
     },
     "output_type": "display_data"
    }
   ],
   "source": [
    "df_bir = birmingham.join(msci_world).dropna()\n",
    "plt.scatter(df_bir.nominal, df_bir.avg_price)\n",
    "plt.xlabel('Stock index return')\n",
    "plt.ylabel('House price return')\n",
    "plt.axhline(color='black', linestyle='--', alpha=0.8)\n",
    "plt.axvline(color='black', linestyle='--', alpha=0.8)\n",
    "print(f'Correlation: {np.corrcoef(df_bir.nominal, df_bir.avg_price)[0, 1]}')"
   ]
  },
  {
   "cell_type": "code",
   "execution_count": 8,
   "id": "f69701f0",
   "metadata": {},
   "outputs": [
    {
     "data": {
      "text/html": [
       "<table class=\"simpletable\">\n",
       "<caption>OLS Regression Results</caption>\n",
       "<tr>\n",
       "  <th>Dep. Variable:</th>        <td>avg_price</td>    <th>  R-squared (uncentered):</th>      <td>   0.028</td>\n",
       "</tr>\n",
       "<tr>\n",
       "  <th>Model:</th>                   <td>OLS</td>       <th>  Adj. R-squared (uncentered):</th> <td>   0.023</td>\n",
       "</tr>\n",
       "<tr>\n",
       "  <th>Method:</th>             <td>Least Squares</td>  <th>  F-statistic:       </th>          <td>   5.459</td>\n",
       "</tr>\n",
       "<tr>\n",
       "  <th>Date:</th>             <td>Thu, 24 Feb 2022</td> <th>  Prob (F-statistic):</th>           <td>0.0204</td> \n",
       "</tr>\n",
       "<tr>\n",
       "  <th>Time:</th>                 <td>00:23:13</td>     <th>  Log-Likelihood:    </th>          <td>  549.67</td>\n",
       "</tr>\n",
       "<tr>\n",
       "  <th>No. Observations:</th>      <td>   216</td>      <th>  AIC:               </th>          <td>  -1097.</td>\n",
       "</tr>\n",
       "<tr>\n",
       "  <th>Df Residuals:</th>          <td>   215</td>      <th>  BIC:               </th>          <td>  -1094.</td>\n",
       "</tr>\n",
       "<tr>\n",
       "  <th>Df Model:</th>              <td>     1</td>      <th>                     </th>              <td> </td>   \n",
       "</tr>\n",
       "<tr>\n",
       "  <th>Covariance Type:</th>         <td>HC1</td>       <th>                     </th>              <td> </td>   \n",
       "</tr>\n",
       "</table>\n",
       "<table class=\"simpletable\">\n",
       "<tr>\n",
       "     <td></td>        <th>coef</th>     <th>std err</th>      <th>t</th>      <th>P>|t|</th>  <th>[0.025</th>    <th>0.975]</th>  \n",
       "</tr>\n",
       "<tr>\n",
       "  <th>nominal</th> <td>    0.0672</td> <td>    0.029</td> <td>    2.336</td> <td> 0.020</td> <td>    0.011</td> <td>    0.124</td>\n",
       "</tr>\n",
       "</table>\n",
       "<table class=\"simpletable\">\n",
       "<tr>\n",
       "  <th>Omnibus:</th>       <td>13.336</td> <th>  Durbin-Watson:     </th> <td>   1.359</td>\n",
       "</tr>\n",
       "<tr>\n",
       "  <th>Prob(Omnibus):</th> <td> 0.001</td> <th>  Jarque-Bera (JB):  </th> <td>  19.370</td>\n",
       "</tr>\n",
       "<tr>\n",
       "  <th>Skew:</th>          <td>-0.398</td> <th>  Prob(JB):          </th> <td>6.22e-05</td>\n",
       "</tr>\n",
       "<tr>\n",
       "  <th>Kurtosis:</th>      <td> 4.233</td> <th>  Cond. No.          </th> <td>    1.00</td>\n",
       "</tr>\n",
       "</table><br/><br/>Notes:<br/>[1] R² is computed without centering (uncentered) since the model does not contain a constant.<br/>[2] Standard Errors are heteroscedasticity robust (HC1)"
      ],
      "text/plain": [
       "<class 'statsmodels.iolib.summary.Summary'>\n",
       "\"\"\"\n",
       "                                 OLS Regression Results                                \n",
       "=======================================================================================\n",
       "Dep. Variable:              avg_price   R-squared (uncentered):                   0.028\n",
       "Model:                            OLS   Adj. R-squared (uncentered):              0.023\n",
       "Method:                 Least Squares   F-statistic:                              5.459\n",
       "Date:                Thu, 24 Feb 2022   Prob (F-statistic):                      0.0204\n",
       "Time:                        00:23:13   Log-Likelihood:                          549.67\n",
       "No. Observations:                 216   AIC:                                     -1097.\n",
       "Df Residuals:                     215   BIC:                                     -1094.\n",
       "Df Model:                           1                                                  \n",
       "Covariance Type:                  HC1                                                  \n",
       "==============================================================================\n",
       "                 coef    std err          t      P>|t|      [0.025      0.975]\n",
       "------------------------------------------------------------------------------\n",
       "nominal        0.0672      0.029      2.336      0.020       0.011       0.124\n",
       "==============================================================================\n",
       "Omnibus:                       13.336   Durbin-Watson:                   1.359\n",
       "Prob(Omnibus):                  0.001   Jarque-Bera (JB):               19.370\n",
       "Skew:                          -0.398   Prob(JB):                     6.22e-05\n",
       "Kurtosis:                       4.233   Cond. No.                         1.00\n",
       "==============================================================================\n",
       "\n",
       "Notes:\n",
       "[1] R² is computed without centering (uncentered) since the model does not contain a constant.\n",
       "[2] Standard Errors are heteroscedasticity robust (HC1)\n",
       "\"\"\""
      ]
     },
     "execution_count": 8,
     "metadata": {},
     "output_type": "execute_result"
    }
   ],
   "source": [
    "oxford_beta = sm.OLS(df_ox.avg_price, df_ox.nominal).fit()\n",
    "oxford_beta.get_robustcov_results().summary()"
   ]
  },
  {
   "cell_type": "code",
   "execution_count": 9,
   "id": "9697b80b",
   "metadata": {},
   "outputs": [
    {
     "data": {
      "text/html": [
       "<table class=\"simpletable\">\n",
       "<caption>OLS Regression Results</caption>\n",
       "<tr>\n",
       "  <th>Dep. Variable:</th>        <td>avg_price</td>    <th>  R-squared (uncentered):</th>      <td>   0.005</td>\n",
       "</tr>\n",
       "<tr>\n",
       "  <th>Model:</th>                   <td>OLS</td>       <th>  Adj. R-squared (uncentered):</th> <td>   0.000</td>\n",
       "</tr>\n",
       "<tr>\n",
       "  <th>Method:</th>             <td>Least Squares</td>  <th>  F-statistic:       </th>          <td>   1.137</td>\n",
       "</tr>\n",
       "<tr>\n",
       "  <th>Date:</th>             <td>Thu, 24 Feb 2022</td> <th>  Prob (F-statistic):</th>           <td> 0.288</td> \n",
       "</tr>\n",
       "<tr>\n",
       "  <th>Time:</th>                 <td>00:23:13</td>     <th>  Log-Likelihood:    </th>          <td>  672.78</td>\n",
       "</tr>\n",
       "<tr>\n",
       "  <th>No. Observations:</th>      <td>   216</td>      <th>  AIC:               </th>          <td>  -1344.</td>\n",
       "</tr>\n",
       "<tr>\n",
       "  <th>Df Residuals:</th>          <td>   215</td>      <th>  BIC:               </th>          <td>  -1340.</td>\n",
       "</tr>\n",
       "<tr>\n",
       "  <th>Df Model:</th>              <td>     1</td>      <th>                     </th>              <td> </td>   \n",
       "</tr>\n",
       "<tr>\n",
       "  <th>Covariance Type:</th>         <td>HC1</td>       <th>                     </th>              <td> </td>   \n",
       "</tr>\n",
       "</table>\n",
       "<table class=\"simpletable\">\n",
       "<tr>\n",
       "     <td></td>        <th>coef</th>     <th>std err</th>      <th>t</th>      <th>P>|t|</th>  <th>[0.025</th>    <th>0.975]</th>  \n",
       "</tr>\n",
       "<tr>\n",
       "  <th>nominal</th> <td>    0.0155</td> <td>    0.015</td> <td>    1.066</td> <td> 0.288</td> <td>   -0.013</td> <td>    0.044</td>\n",
       "</tr>\n",
       "</table>\n",
       "<table class=\"simpletable\">\n",
       "<tr>\n",
       "  <th>Omnibus:</th>       <td> 0.564</td> <th>  Durbin-Watson:     </th> <td>   1.050</td>\n",
       "</tr>\n",
       "<tr>\n",
       "  <th>Prob(Omnibus):</th> <td> 0.754</td> <th>  Jarque-Bera (JB):  </th> <td>   0.305</td>\n",
       "</tr>\n",
       "<tr>\n",
       "  <th>Skew:</th>          <td>-0.049</td> <th>  Prob(JB):          </th> <td>   0.859</td>\n",
       "</tr>\n",
       "<tr>\n",
       "  <th>Kurtosis:</th>      <td> 3.155</td> <th>  Cond. No.          </th> <td>    1.00</td>\n",
       "</tr>\n",
       "</table><br/><br/>Notes:<br/>[1] R² is computed without centering (uncentered) since the model does not contain a constant.<br/>[2] Standard Errors are heteroscedasticity robust (HC1)"
      ],
      "text/plain": [
       "<class 'statsmodels.iolib.summary.Summary'>\n",
       "\"\"\"\n",
       "                                 OLS Regression Results                                \n",
       "=======================================================================================\n",
       "Dep. Variable:              avg_price   R-squared (uncentered):                   0.005\n",
       "Model:                            OLS   Adj. R-squared (uncentered):              0.000\n",
       "Method:                 Least Squares   F-statistic:                              1.137\n",
       "Date:                Thu, 24 Feb 2022   Prob (F-statistic):                       0.288\n",
       "Time:                        00:23:13   Log-Likelihood:                          672.78\n",
       "No. Observations:                 216   AIC:                                     -1344.\n",
       "Df Residuals:                     215   BIC:                                     -1340.\n",
       "Df Model:                           1                                                  \n",
       "Covariance Type:                  HC1                                                  \n",
       "==============================================================================\n",
       "                 coef    std err          t      P>|t|      [0.025      0.975]\n",
       "------------------------------------------------------------------------------\n",
       "nominal        0.0155      0.015      1.066      0.288      -0.013       0.044\n",
       "==============================================================================\n",
       "Omnibus:                        0.564   Durbin-Watson:                   1.050\n",
       "Prob(Omnibus):                  0.754   Jarque-Bera (JB):                0.305\n",
       "Skew:                          -0.049   Prob(JB):                        0.859\n",
       "Kurtosis:                       3.155   Cond. No.                         1.00\n",
       "==============================================================================\n",
       "\n",
       "Notes:\n",
       "[1] R² is computed without centering (uncentered) since the model does not contain a constant.\n",
       "[2] Standard Errors are heteroscedasticity robust (HC1)\n",
       "\"\"\""
      ]
     },
     "execution_count": 9,
     "metadata": {},
     "output_type": "execute_result"
    }
   ],
   "source": [
    "coventry_beta = sm.OLS(df_bir.avg_price, df_bir.nominal).fit()\n",
    "coventry_beta.get_robustcov_results().summary()"
   ]
  },
  {
   "cell_type": "code",
   "execution_count": null,
   "id": "eb1a56bb",
   "metadata": {},
   "outputs": [],
   "source": []
  }
 ],
 "metadata": {
  "kernelspec": {
   "display_name": "Python 3",
   "language": "python",
   "name": "python3"
  },
  "language_info": {
   "codemirror_mode": {
    "name": "ipython",
    "version": 3
   },
   "file_extension": ".py",
   "mimetype": "text/x-python",
   "name": "python",
   "nbconvert_exporter": "python",
   "pygments_lexer": "ipython3",
   "version": "3.8.10"
  }
 },
 "nbformat": 4,
 "nbformat_minor": 5
}
